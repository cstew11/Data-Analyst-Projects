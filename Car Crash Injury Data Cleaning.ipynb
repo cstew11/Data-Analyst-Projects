{
 "cells": [
  {
   "cell_type": "code",
   "execution_count": 3,
   "id": "981d489a",
   "metadata": {},
   "outputs": [],
   "source": [
    "import pandas as pd\n",
    "import matplotlib.pyplot as plt\n",
    "import seaborn as sns"
   ]
  },
  {
   "cell_type": "code",
   "execution_count": 5,
   "id": "94a331cc",
   "metadata": {},
   "outputs": [],
   "source": [
    "df = pd.read_csv('Traffic_Crashes_-_Crashes.csv')"
   ]
  },
  {
   "cell_type": "code",
   "execution_count": 6,
   "id": "10714086",
   "metadata": {},
   "outputs": [],
   "source": [
    "pd.set_option('display.max_columns',None)"
   ]
  },
  {
   "cell_type": "code",
   "execution_count": 7,
   "id": "1fa8d026",
   "metadata": {},
   "outputs": [
    {
     "name": "stdout",
     "output_type": "stream",
     "text": [
      "(771066, 49)\n"
     ]
    }
   ],
   "source": [
    "print(df.shape)"
   ]
  },
  {
   "cell_type": "code",
   "execution_count": null,
   "id": "6d75b13d",
   "metadata": {},
   "outputs": [],
   "source": [
    "#Reduce Dataset down to Crashes in just 2022 that had reported injuries > 0"
   ]
  },
  {
   "cell_type": "code",
   "execution_count": 5,
   "id": "030161ae",
   "metadata": {},
   "outputs": [
    {
     "data": {
      "text/plain": [
       "CRASH_RECORD_ID                   object\n",
       "RD_NO                             object\n",
       "CRASH_DATE_EST_I                  object\n",
       "CRASH_DATE                        object\n",
       "POSTED_SPEED_LIMIT                 int64\n",
       "TRAFFIC_CONTROL_DEVICE            object\n",
       "DEVICE_CONDITION                  object\n",
       "WEATHER_CONDITION                 object\n",
       "LIGHTING_CONDITION                object\n",
       "FIRST_CRASH_TYPE                  object\n",
       "TRAFFICWAY_TYPE                   object\n",
       "LANE_CNT                         float64\n",
       "ALIGNMENT                         object\n",
       "ROADWAY_SURFACE_COND              object\n",
       "ROAD_DEFECT                       object\n",
       "REPORT_TYPE                       object\n",
       "CRASH_TYPE                        object\n",
       "INTERSECTION_RELATED_I            object\n",
       "NOT_RIGHT_OF_WAY_I                object\n",
       "HIT_AND_RUN_I                     object\n",
       "DAMAGE                            object\n",
       "DATE_POLICE_NOTIFIED              object\n",
       "PRIM_CONTRIBUTORY_CAUSE           object\n",
       "SEC_CONTRIBUTORY_CAUSE            object\n",
       "STREET_NO                          int64\n",
       "STREET_DIRECTION                  object\n",
       "STREET_NAME                       object\n",
       "BEAT_OF_OCCURRENCE               float64\n",
       "PHOTOS_TAKEN_I                    object\n",
       "STATEMENTS_TAKEN_I                object\n",
       "DOORING_I                         object\n",
       "WORK_ZONE_I                       object\n",
       "WORK_ZONE_TYPE                    object\n",
       "WORKERS_PRESENT_I                 object\n",
       "NUM_UNITS                          int64\n",
       "MOST_SEVERE_INJURY                object\n",
       "INJURIES_TOTAL                   float64\n",
       "INJURIES_FATAL                   float64\n",
       "INJURIES_INCAPACITATING          float64\n",
       "INJURIES_NON_INCAPACITATING      float64\n",
       "INJURIES_REPORTED_NOT_EVIDENT    float64\n",
       "INJURIES_NO_INDICATION           float64\n",
       "INJURIES_UNKNOWN                 float64\n",
       "CRASH_HOUR                         int64\n",
       "CRASH_DAY_OF_WEEK                  int64\n",
       "CRASH_MONTH                        int64\n",
       "LATITUDE                         float64\n",
       "LONGITUDE                        float64\n",
       "LOCATION                          object\n",
       "dtype: object"
      ]
     },
     "execution_count": 5,
     "metadata": {},
     "output_type": "execute_result"
    }
   ],
   "source": [
    "df.dtypes"
   ]
  },
  {
   "cell_type": "code",
   "execution_count": 123,
   "id": "b866443a",
   "metadata": {},
   "outputs": [],
   "source": [
    "df['CRASH_DATE'] = pd.to_datetime(df['CRASH_DATE'])"
   ]
  },
  {
   "cell_type": "code",
   "execution_count": 124,
   "id": "56986204",
   "metadata": {},
   "outputs": [],
   "source": [
    " df = df[df['CRASH_DATE'].dt.year == 2022]"
   ]
  },
  {
   "cell_type": "code",
   "execution_count": 125,
   "id": "55b32261",
   "metadata": {},
   "outputs": [],
   "source": [
    "df = df[df['INJURIES_TOTAL'] != 0]"
   ]
  },
  {
   "cell_type": "code",
   "execution_count": 126,
   "id": "442cf5ee",
   "metadata": {},
   "outputs": [],
   "source": [
    "df.dropna(subset=['INJURIES_TOTAL'], inplace=True)"
   ]
  },
  {
   "cell_type": "code",
   "execution_count": 10,
   "id": "efd61eea",
   "metadata": {},
   "outputs": [
    {
     "name": "stdout",
     "output_type": "stream",
     "text": [
      "(16032, 49)\n"
     ]
    }
   ],
   "source": [
    "print(df.shape)"
   ]
  },
  {
   "cell_type": "code",
   "execution_count": 127,
   "id": "c300f753",
   "metadata": {},
   "outputs": [],
   "source": [
    "df.reset_index(drop=True, inplace=True)"
   ]
  },
  {
   "cell_type": "code",
   "execution_count": null,
   "id": "ea1cb373",
   "metadata": {},
   "outputs": [],
   "source": [
    "#Remove columns that will not be used"
   ]
  },
  {
   "cell_type": "code",
   "execution_count": 137,
   "id": "767f5097",
   "metadata": {},
   "outputs": [],
   "source": [
    "df = df.drop(['CRASH_RECORD_ID','CRASH_DATE_EST_I', 'ALIGNMENT','REPORT_TYPE','NOT_RIGHT_OF_WAY_I','BEAT_OF_OCCURRENCE',\n",
    "              'PHOTOS_TAKEN_I','STATEMENTS_TAKEN_I','DOORING_I','WORK_ZONE_TYPE','WORKERS_PRESENT_I','CRASH_TYPE','INTERSECTION_RELATED_I',\n",
    "              'SEC_CONTRIBUTORY_CAUSE','MOST_SEVERE_INJURY','INJURIES_UNKNOWN','CRASH_HOUR',\n",
    "              'LOCATION','DEVICE_CONDITION','ROAD_DEFECT','LANE_CNT'], axis = 1)"
   ]
  },
  {
   "cell_type": "code",
   "execution_count": null,
   "id": "1c7917b1",
   "metadata": {},
   "outputs": [],
   "source": [
    "df=df.drop(['LATITUDE','LONGITUDE'],axis=1)"
   ]
  },
  {
   "cell_type": "code",
   "execution_count": 139,
   "id": "1184cd04",
   "metadata": {},
   "outputs": [
    {
     "data": {
      "text/html": [
       "<div>\n",
       "<style scoped>\n",
       "    .dataframe tbody tr th:only-of-type {\n",
       "        vertical-align: middle;\n",
       "    }\n",
       "\n",
       "    .dataframe tbody tr th {\n",
       "        vertical-align: top;\n",
       "    }\n",
       "\n",
       "    .dataframe thead th {\n",
       "        text-align: right;\n",
       "    }\n",
       "</style>\n",
       "<table border=\"1\" class=\"dataframe\">\n",
       "  <thead>\n",
       "    <tr style=\"text-align: right;\">\n",
       "      <th></th>\n",
       "      <th>ID</th>\n",
       "      <th>CRASH_DATE</th>\n",
       "      <th>POSTED_SPEED_LIMIT</th>\n",
       "      <th>TRAFFIC_SIGN</th>\n",
       "      <th>WEATHER_CONDITION</th>\n",
       "      <th>LIGHTING_CONDITION</th>\n",
       "      <th>TRAFFICWAY_TYPE</th>\n",
       "      <th>ROAD_CONDITION</th>\n",
       "      <th>HIT_AND_RUN</th>\n",
       "      <th>DAMAGE_ESTIMATE</th>\n",
       "      <th>DATE_POLICE_NOTIFIED</th>\n",
       "      <th>CAUSE_OF_ACCIDENT</th>\n",
       "      <th>STREET_NO</th>\n",
       "      <th>STREET_DIRECTION</th>\n",
       "      <th>STREET_NAME</th>\n",
       "      <th>WORK_ZONE</th>\n",
       "      <th>NUM_UNITS</th>\n",
       "      <th>INJURIES_TOTAL</th>\n",
       "      <th>INJURIES_FATAL</th>\n",
       "      <th>INJURIES_INCAPACITATING</th>\n",
       "      <th>INJURIES_NON_INCAPACITATING</th>\n",
       "      <th>INJURIES_REPORTED_NOT_EVIDENT</th>\n",
       "      <th>INJURIES_NO_INDICATION</th>\n",
       "      <th>CRASH_DAY_OF_WEEK</th>\n",
       "      <th>CRASH_MONTH</th>\n",
       "    </tr>\n",
       "  </thead>\n",
       "  <tbody>\n",
       "    <tr>\n",
       "      <th>0</th>\n",
       "      <td>JF486690</td>\n",
       "      <td>2022-11-25 00:00:00</td>\n",
       "      <td>25</td>\n",
       "      <td>TRAFFIC SIGNAL</td>\n",
       "      <td>CLEAR</td>\n",
       "      <td>DARKNESS, LIGHTED ROAD</td>\n",
       "      <td>FOUR WAY</td>\n",
       "      <td>DRY</td>\n",
       "      <td>Y</td>\n",
       "      <td>OVER $1,500</td>\n",
       "      <td>2022-11-25 00:03:00</td>\n",
       "      <td>FAILING TO YIELD RIGHT-OF-WAY</td>\n",
       "      <td>4900</td>\n",
       "      <td>S</td>\n",
       "      <td>MICHIGAN AVE</td>\n",
       "      <td>N</td>\n",
       "      <td>5</td>\n",
       "      <td>3</td>\n",
       "      <td>0</td>\n",
       "      <td>2</td>\n",
       "      <td>1</td>\n",
       "      <td>0</td>\n",
       "      <td>2</td>\n",
       "      <td>6</td>\n",
       "      <td>11</td>\n",
       "    </tr>\n",
       "    <tr>\n",
       "      <th>1</th>\n",
       "      <td>JF527711</td>\n",
       "      <td>2022-12-30 15:40:00</td>\n",
       "      <td>25</td>\n",
       "      <td>NO CONTROLS</td>\n",
       "      <td>CLEAR</td>\n",
       "      <td>DAYLIGHT</td>\n",
       "      <td>NOT DIVIDED</td>\n",
       "      <td>DRY</td>\n",
       "      <td>Y</td>\n",
       "      <td>OVER $1,500</td>\n",
       "      <td>2022-12-30 15:40:00</td>\n",
       "      <td>UNABLE TO DETERMINE</td>\n",
       "      <td>1000</td>\n",
       "      <td>S</td>\n",
       "      <td>KOSTNER AVE</td>\n",
       "      <td>N</td>\n",
       "      <td>3</td>\n",
       "      <td>1</td>\n",
       "      <td>0</td>\n",
       "      <td>0</td>\n",
       "      <td>1</td>\n",
       "      <td>0</td>\n",
       "      <td>3</td>\n",
       "      <td>6</td>\n",
       "      <td>12</td>\n",
       "    </tr>\n",
       "    <tr>\n",
       "      <th>2</th>\n",
       "      <td>JF223730</td>\n",
       "      <td>2022-04-29 00:05:00</td>\n",
       "      <td>30</td>\n",
       "      <td>TRAFFIC SIGNAL</td>\n",
       "      <td>CLEAR</td>\n",
       "      <td>DARKNESS, LIGHTED ROAD</td>\n",
       "      <td>NOT DIVIDED</td>\n",
       "      <td>DRY</td>\n",
       "      <td>Y</td>\n",
       "      <td>OVER $1,500</td>\n",
       "      <td>2022-04-29 00:08:00</td>\n",
       "      <td>UNABLE TO DETERMINE</td>\n",
       "      <td>510</td>\n",
       "      <td>N</td>\n",
       "      <td>CICERO AVE</td>\n",
       "      <td>N</td>\n",
       "      <td>3</td>\n",
       "      <td>1</td>\n",
       "      <td>0</td>\n",
       "      <td>0</td>\n",
       "      <td>1</td>\n",
       "      <td>0</td>\n",
       "      <td>4</td>\n",
       "      <td>6</td>\n",
       "      <td>4</td>\n",
       "    </tr>\n",
       "    <tr>\n",
       "      <th>3</th>\n",
       "      <td>JF252632</td>\n",
       "      <td>2022-05-23 12:38:00</td>\n",
       "      <td>30</td>\n",
       "      <td>NO CONTROLS</td>\n",
       "      <td>CLEAR</td>\n",
       "      <td>DAYLIGHT</td>\n",
       "      <td>NOT DIVIDED</td>\n",
       "      <td>DRY</td>\n",
       "      <td>N</td>\n",
       "      <td>OVER $1,500</td>\n",
       "      <td>2022-05-23 12:54:00</td>\n",
       "      <td>UNABLE TO DETERMINE</td>\n",
       "      <td>10904</td>\n",
       "      <td>S</td>\n",
       "      <td>EWING AVE</td>\n",
       "      <td>N</td>\n",
       "      <td>2</td>\n",
       "      <td>1</td>\n",
       "      <td>0</td>\n",
       "      <td>1</td>\n",
       "      <td>0</td>\n",
       "      <td>0</td>\n",
       "      <td>2</td>\n",
       "      <td>2</td>\n",
       "      <td>5</td>\n",
       "    </tr>\n",
       "    <tr>\n",
       "      <th>4</th>\n",
       "      <td>JF210064</td>\n",
       "      <td>2022-04-16 10:36:00</td>\n",
       "      <td>30</td>\n",
       "      <td>NO CONTROLS</td>\n",
       "      <td>CLEAR</td>\n",
       "      <td>DAYLIGHT</td>\n",
       "      <td>DIVIDED - W/MEDIAN (NOT RAISED)</td>\n",
       "      <td>DRY</td>\n",
       "      <td>N</td>\n",
       "      <td>$501 - $1,500</td>\n",
       "      <td>2022-04-16 10:36:00</td>\n",
       "      <td>EVASIVE ACTION DUE TO ANIMAL, OBJECT, NONMOTORIST</td>\n",
       "      <td>6250</td>\n",
       "      <td>N</td>\n",
       "      <td>LINCOLN AVE</td>\n",
       "      <td>N</td>\n",
       "      <td>2</td>\n",
       "      <td>1</td>\n",
       "      <td>0</td>\n",
       "      <td>1</td>\n",
       "      <td>0</td>\n",
       "      <td>0</td>\n",
       "      <td>2</td>\n",
       "      <td>7</td>\n",
       "      <td>4</td>\n",
       "    </tr>\n",
       "    <tr>\n",
       "      <th>...</th>\n",
       "      <td>...</td>\n",
       "      <td>...</td>\n",
       "      <td>...</td>\n",
       "      <td>...</td>\n",
       "      <td>...</td>\n",
       "      <td>...</td>\n",
       "      <td>...</td>\n",
       "      <td>...</td>\n",
       "      <td>...</td>\n",
       "      <td>...</td>\n",
       "      <td>...</td>\n",
       "      <td>...</td>\n",
       "      <td>...</td>\n",
       "      <td>...</td>\n",
       "      <td>...</td>\n",
       "      <td>...</td>\n",
       "      <td>...</td>\n",
       "      <td>...</td>\n",
       "      <td>...</td>\n",
       "      <td>...</td>\n",
       "      <td>...</td>\n",
       "      <td>...</td>\n",
       "      <td>...</td>\n",
       "      <td>...</td>\n",
       "      <td>...</td>\n",
       "    </tr>\n",
       "    <tr>\n",
       "      <th>16027</th>\n",
       "      <td>JF210763</td>\n",
       "      <td>2022-04-17 14:54:00</td>\n",
       "      <td>30</td>\n",
       "      <td>STOP SIGN/FLASHER</td>\n",
       "      <td>CLEAR</td>\n",
       "      <td>DAYLIGHT</td>\n",
       "      <td>NOT DIVIDED</td>\n",
       "      <td>DRY</td>\n",
       "      <td>N</td>\n",
       "      <td>$500 OR LESS</td>\n",
       "      <td>2022-04-17 14:54:00</td>\n",
       "      <td>FAILING TO YIELD RIGHT-OF-WAY</td>\n",
       "      <td>4500</td>\n",
       "      <td>N</td>\n",
       "      <td>HAZEL ST</td>\n",
       "      <td>N</td>\n",
       "      <td>2</td>\n",
       "      <td>2</td>\n",
       "      <td>1</td>\n",
       "      <td>0</td>\n",
       "      <td>1</td>\n",
       "      <td>0</td>\n",
       "      <td>5</td>\n",
       "      <td>1</td>\n",
       "      <td>4</td>\n",
       "    </tr>\n",
       "    <tr>\n",
       "      <th>16028</th>\n",
       "      <td>JF141863</td>\n",
       "      <td>2022-02-12 00:45:00</td>\n",
       "      <td>40</td>\n",
       "      <td>NO CONTROLS</td>\n",
       "      <td>CLEAR</td>\n",
       "      <td>DARKNESS</td>\n",
       "      <td>OTHER</td>\n",
       "      <td>UNKNOWN</td>\n",
       "      <td>N</td>\n",
       "      <td>OVER $1,500</td>\n",
       "      <td>2022-02-12 00:51:00</td>\n",
       "      <td>UNABLE TO DETERMINE</td>\n",
       "      <td>3900</td>\n",
       "      <td>N</td>\n",
       "      <td>LAKE SHORE DR</td>\n",
       "      <td>N</td>\n",
       "      <td>3</td>\n",
       "      <td>3</td>\n",
       "      <td>0</td>\n",
       "      <td>0</td>\n",
       "      <td>2</td>\n",
       "      <td>1</td>\n",
       "      <td>2</td>\n",
       "      <td>7</td>\n",
       "      <td>2</td>\n",
       "    </tr>\n",
       "    <tr>\n",
       "      <th>16029</th>\n",
       "      <td>JF135261</td>\n",
       "      <td>2022-02-06 01:49:00</td>\n",
       "      <td>30</td>\n",
       "      <td>NO CONTROLS</td>\n",
       "      <td>CLEAR</td>\n",
       "      <td>DARKNESS, LIGHTED ROAD</td>\n",
       "      <td>DIVIDED - W/MEDIAN BARRIER</td>\n",
       "      <td>DRY</td>\n",
       "      <td>Y</td>\n",
       "      <td>OVER $1,500</td>\n",
       "      <td>2022-02-06 01:54:00</td>\n",
       "      <td>FAILING TO REDUCE SPEED TO AVOID CRASH</td>\n",
       "      <td>5649</td>\n",
       "      <td>N</td>\n",
       "      <td>LAKE SHORE DR SB</td>\n",
       "      <td>N</td>\n",
       "      <td>2</td>\n",
       "      <td>1</td>\n",
       "      <td>0</td>\n",
       "      <td>0</td>\n",
       "      <td>0</td>\n",
       "      <td>1</td>\n",
       "      <td>3</td>\n",
       "      <td>1</td>\n",
       "      <td>2</td>\n",
       "    </tr>\n",
       "    <tr>\n",
       "      <th>16030</th>\n",
       "      <td>JF279207</td>\n",
       "      <td>2022-06-14 11:20:00</td>\n",
       "      <td>30</td>\n",
       "      <td>TRAFFIC SIGNAL</td>\n",
       "      <td>CLEAR</td>\n",
       "      <td>DAYLIGHT</td>\n",
       "      <td>NOT DIVIDED</td>\n",
       "      <td>DRY</td>\n",
       "      <td>N</td>\n",
       "      <td>OVER $1,500</td>\n",
       "      <td>2022-06-14 11:31:00</td>\n",
       "      <td>IMPROPER TURNING/NO SIGNAL</td>\n",
       "      <td>4758</td>\n",
       "      <td>W</td>\n",
       "      <td>FLOURNOY ST</td>\n",
       "      <td>N</td>\n",
       "      <td>2</td>\n",
       "      <td>2</td>\n",
       "      <td>0</td>\n",
       "      <td>0</td>\n",
       "      <td>0</td>\n",
       "      <td>2</td>\n",
       "      <td>2</td>\n",
       "      <td>3</td>\n",
       "      <td>6</td>\n",
       "    </tr>\n",
       "    <tr>\n",
       "      <th>16031</th>\n",
       "      <td>JF194796</td>\n",
       "      <td>2022-04-02 12:18:00</td>\n",
       "      <td>30</td>\n",
       "      <td>TRAFFIC SIGNAL</td>\n",
       "      <td>RAIN</td>\n",
       "      <td>UNKNOWN</td>\n",
       "      <td>FOUR WAY</td>\n",
       "      <td>WET</td>\n",
       "      <td>N</td>\n",
       "      <td>OVER $1,500</td>\n",
       "      <td>2022-04-02 13:40:00</td>\n",
       "      <td>UNABLE TO DETERMINE</td>\n",
       "      <td>1920</td>\n",
       "      <td>S</td>\n",
       "      <td>RUBLE ST</td>\n",
       "      <td>N</td>\n",
       "      <td>2</td>\n",
       "      <td>1</td>\n",
       "      <td>0</td>\n",
       "      <td>0</td>\n",
       "      <td>1</td>\n",
       "      <td>0</td>\n",
       "      <td>2</td>\n",
       "      <td>7</td>\n",
       "      <td>4</td>\n",
       "    </tr>\n",
       "  </tbody>\n",
       "</table>\n",
       "<p>16032 rows × 25 columns</p>\n",
       "</div>"
      ],
      "text/plain": [
       "             ID          CRASH_DATE  POSTED_SPEED_LIMIT       TRAFFIC_SIGN  \\\n",
       "0      JF486690 2022-11-25 00:00:00                  25     TRAFFIC SIGNAL   \n",
       "1      JF527711 2022-12-30 15:40:00                  25        NO CONTROLS   \n",
       "2      JF223730 2022-04-29 00:05:00                  30     TRAFFIC SIGNAL   \n",
       "3      JF252632 2022-05-23 12:38:00                  30        NO CONTROLS   \n",
       "4      JF210064 2022-04-16 10:36:00                  30        NO CONTROLS   \n",
       "...         ...                 ...                 ...                ...   \n",
       "16027  JF210763 2022-04-17 14:54:00                  30  STOP SIGN/FLASHER   \n",
       "16028  JF141863 2022-02-12 00:45:00                  40        NO CONTROLS   \n",
       "16029  JF135261 2022-02-06 01:49:00                  30        NO CONTROLS   \n",
       "16030  JF279207 2022-06-14 11:20:00                  30     TRAFFIC SIGNAL   \n",
       "16031  JF194796 2022-04-02 12:18:00                  30     TRAFFIC SIGNAL   \n",
       "\n",
       "      WEATHER_CONDITION      LIGHTING_CONDITION  \\\n",
       "0                 CLEAR  DARKNESS, LIGHTED ROAD   \n",
       "1                 CLEAR                DAYLIGHT   \n",
       "2                 CLEAR  DARKNESS, LIGHTED ROAD   \n",
       "3                 CLEAR                DAYLIGHT   \n",
       "4                 CLEAR                DAYLIGHT   \n",
       "...                 ...                     ...   \n",
       "16027             CLEAR                DAYLIGHT   \n",
       "16028             CLEAR                DARKNESS   \n",
       "16029             CLEAR  DARKNESS, LIGHTED ROAD   \n",
       "16030             CLEAR                DAYLIGHT   \n",
       "16031              RAIN                 UNKNOWN   \n",
       "\n",
       "                       TRAFFICWAY_TYPE ROAD_CONDITION HIT_AND_RUN  \\\n",
       "0                             FOUR WAY            DRY           Y   \n",
       "1                          NOT DIVIDED            DRY           Y   \n",
       "2                          NOT DIVIDED            DRY           Y   \n",
       "3                          NOT DIVIDED            DRY           N   \n",
       "4      DIVIDED - W/MEDIAN (NOT RAISED)            DRY           N   \n",
       "...                                ...            ...         ...   \n",
       "16027                      NOT DIVIDED            DRY           N   \n",
       "16028                            OTHER        UNKNOWN           N   \n",
       "16029       DIVIDED - W/MEDIAN BARRIER            DRY           Y   \n",
       "16030                      NOT DIVIDED            DRY           N   \n",
       "16031                         FOUR WAY            WET           N   \n",
       "\n",
       "      DAMAGE_ESTIMATE DATE_POLICE_NOTIFIED  \\\n",
       "0         OVER $1,500  2022-11-25 00:03:00   \n",
       "1         OVER $1,500  2022-12-30 15:40:00   \n",
       "2         OVER $1,500  2022-04-29 00:08:00   \n",
       "3         OVER $1,500  2022-05-23 12:54:00   \n",
       "4       $501 - $1,500  2022-04-16 10:36:00   \n",
       "...               ...                  ...   \n",
       "16027    $500 OR LESS  2022-04-17 14:54:00   \n",
       "16028     OVER $1,500  2022-02-12 00:51:00   \n",
       "16029     OVER $1,500  2022-02-06 01:54:00   \n",
       "16030     OVER $1,500  2022-06-14 11:31:00   \n",
       "16031     OVER $1,500  2022-04-02 13:40:00   \n",
       "\n",
       "                                       CAUSE_OF_ACCIDENT  STREET_NO  \\\n",
       "0                          FAILING TO YIELD RIGHT-OF-WAY       4900   \n",
       "1                                    UNABLE TO DETERMINE       1000   \n",
       "2                                    UNABLE TO DETERMINE        510   \n",
       "3                                    UNABLE TO DETERMINE      10904   \n",
       "4      EVASIVE ACTION DUE TO ANIMAL, OBJECT, NONMOTORIST       6250   \n",
       "...                                                  ...        ...   \n",
       "16027                      FAILING TO YIELD RIGHT-OF-WAY       4500   \n",
       "16028                                UNABLE TO DETERMINE       3900   \n",
       "16029             FAILING TO REDUCE SPEED TO AVOID CRASH       5649   \n",
       "16030                         IMPROPER TURNING/NO SIGNAL       4758   \n",
       "16031                                UNABLE TO DETERMINE       1920   \n",
       "\n",
       "      STREET_DIRECTION       STREET_NAME WORK_ZONE  NUM_UNITS  INJURIES_TOTAL  \\\n",
       "0                    S      MICHIGAN AVE         N          5               3   \n",
       "1                    S       KOSTNER AVE         N          3               1   \n",
       "2                    N        CICERO AVE         N          3               1   \n",
       "3                    S         EWING AVE         N          2               1   \n",
       "4                    N       LINCOLN AVE         N          2               1   \n",
       "...                ...               ...       ...        ...             ...   \n",
       "16027                N          HAZEL ST         N          2               2   \n",
       "16028                N     LAKE SHORE DR         N          3               3   \n",
       "16029                N  LAKE SHORE DR SB         N          2               1   \n",
       "16030                W       FLOURNOY ST         N          2               2   \n",
       "16031                S          RUBLE ST         N          2               1   \n",
       "\n",
       "       INJURIES_FATAL  INJURIES_INCAPACITATING  INJURIES_NON_INCAPACITATING  \\\n",
       "0                   0                        2                            1   \n",
       "1                   0                        0                            1   \n",
       "2                   0                        0                            1   \n",
       "3                   0                        1                            0   \n",
       "4                   0                        1                            0   \n",
       "...               ...                      ...                          ...   \n",
       "16027               1                        0                            1   \n",
       "16028               0                        0                            2   \n",
       "16029               0                        0                            0   \n",
       "16030               0                        0                            0   \n",
       "16031               0                        0                            1   \n",
       "\n",
       "       INJURIES_REPORTED_NOT_EVIDENT  INJURIES_NO_INDICATION  \\\n",
       "0                                  0                       2   \n",
       "1                                  0                       3   \n",
       "2                                  0                       4   \n",
       "3                                  0                       2   \n",
       "4                                  0                       2   \n",
       "...                              ...                     ...   \n",
       "16027                              0                       5   \n",
       "16028                              1                       2   \n",
       "16029                              1                       3   \n",
       "16030                              2                       2   \n",
       "16031                              0                       2   \n",
       "\n",
       "       CRASH_DAY_OF_WEEK  CRASH_MONTH  \n",
       "0                      6           11  \n",
       "1                      6           12  \n",
       "2                      6            4  \n",
       "3                      2            5  \n",
       "4                      7            4  \n",
       "...                  ...          ...  \n",
       "16027                  1            4  \n",
       "16028                  7            2  \n",
       "16029                  1            2  \n",
       "16030                  3            6  \n",
       "16031                  7            4  \n",
       "\n",
       "[16032 rows x 25 columns]"
      ]
     },
     "execution_count": 139,
     "metadata": {},
     "output_type": "execute_result"
    }
   ],
   "source": [
    "df"
   ]
  },
  {
   "cell_type": "code",
   "execution_count": 45,
   "id": "81c80552",
   "metadata": {},
   "outputs": [
    {
     "data": {
      "text/plain": [
       "ID                                       object\n",
       "CRASH_DATE                       datetime64[ns]\n",
       "POSTED_SPEED_LIMIT                        int64\n",
       "TRAFFIC_SIGN                             object\n",
       "WEATHER_CONDITION                        object\n",
       "LIGHTING_CONDITION                       object\n",
       "CRASH_TYPE                               object\n",
       "TRAFFICWAY_TYPE                          object\n",
       "ROAD_CONDITION                           object\n",
       "HIT_AND_RUN                              object\n",
       "DAMAGE_ESTIMATE                          object\n",
       "DATE_POLICE_NOTIFIED             datetime64[ns]\n",
       "CAUSE_OF_ACCIDENT                        object\n",
       "STREET_NO                                 int64\n",
       "STREET_DIRECTION                         object\n",
       "STREET_NAME                              object\n",
       "WORK_ZONE                                object\n",
       "NUM_UNITS                                 int64\n",
       "INJURIES_TOTAL                            int64\n",
       "INJURIES_FATAL                            int64\n",
       "INJURIES_INCAPACITATING                   int64\n",
       "INJURIES_NON_INCAPACITATING               int64\n",
       "INJURIES_REPORTED_NOT_EVIDENT             int64\n",
       "INJURIES_NO_INDICATION                    int64\n",
       "CRASH_DAY_OF_WEEK                         int64\n",
       "CRASH_MONTH                               int64\n",
       "dtype: object"
      ]
     },
     "execution_count": 45,
     "metadata": {},
     "output_type": "execute_result"
    }
   ],
   "source": [
    "df.dtypes"
   ]
  },
  {
   "cell_type": "code",
   "execution_count": null,
   "id": "29b2e1f7",
   "metadata": {},
   "outputs": [],
   "source": [
    "#Rename Columns"
   ]
  },
  {
   "cell_type": "code",
   "execution_count": 129,
   "id": "2b65d640",
   "metadata": {},
   "outputs": [],
   "source": [
    "column_rename = {'RD_NO': 'ID', 'POSTED_SPEED_LIMIT ': 'SPEED_LIMIT',\n",
    "                 'TRAFFIC_CONTROL_DEVICE': 'TRAFFIC_SIGN',\n",
    "                 'FIRST_CRASH_TYPE': 'CRASH_TYPE', 'ROADWAY_SURFACE_COND': 'ROAD_CONDITION',\n",
    "                 'HIT_AND_RUN_I': 'HIT_AND_RUN','DAMAGE': 'DAMAGE_ESTIMATE',\n",
    "                 'PRIM_CONTRIBUTORY_CAUSE' : 'CAUSE_OF_ACCIDENT', 'WORK_ZONE_I' : 'WORK_ZONE'}\n",
    "\n",
    "df.rename(columns=column_rename, inplace=True)"
   ]
  },
  {
   "cell_type": "code",
   "execution_count": null,
   "id": "50321c30",
   "metadata": {},
   "outputs": [],
   "source": [
    "#Delete duplicates"
   ]
  },
  {
   "cell_type": "code",
   "execution_count": 130,
   "id": "64c46e23",
   "metadata": {},
   "outputs": [],
   "source": [
    "df = df.drop_duplicates()"
   ]
  },
  {
   "cell_type": "code",
   "execution_count": 47,
   "id": "eed5846b",
   "metadata": {},
   "outputs": [
    {
     "name": "stdout",
     "output_type": "stream",
     "text": [
      "(16032, 26)\n"
     ]
    }
   ],
   "source": [
    "print(df.shape)"
   ]
  },
  {
   "cell_type": "code",
   "execution_count": null,
   "id": "2b7ee11c",
   "metadata": {},
   "outputs": [],
   "source": [
    "#Convert Data Types"
   ]
  },
  {
   "cell_type": "code",
   "execution_count": 48,
   "id": "0f847f56",
   "metadata": {},
   "outputs": [
    {
     "data": {
      "text/plain": [
       "ID                                       object\n",
       "CRASH_DATE                       datetime64[ns]\n",
       "POSTED_SPEED_LIMIT                        int64\n",
       "TRAFFIC_SIGN                             object\n",
       "WEATHER_CONDITION                        object\n",
       "LIGHTING_CONDITION                       object\n",
       "CRASH_TYPE                               object\n",
       "TRAFFICWAY_TYPE                          object\n",
       "ROAD_CONDITION                           object\n",
       "HIT_AND_RUN                              object\n",
       "DAMAGE_ESTIMATE                          object\n",
       "DATE_POLICE_NOTIFIED             datetime64[ns]\n",
       "CAUSE_OF_ACCIDENT                        object\n",
       "STREET_NO                                 int64\n",
       "STREET_DIRECTION                         object\n",
       "STREET_NAME                              object\n",
       "WORK_ZONE                                object\n",
       "NUM_UNITS                                 int64\n",
       "INJURIES_TOTAL                            int64\n",
       "INJURIES_FATAL                            int64\n",
       "INJURIES_INCAPACITATING                   int64\n",
       "INJURIES_NON_INCAPACITATING               int64\n",
       "INJURIES_REPORTED_NOT_EVIDENT             int64\n",
       "INJURIES_NO_INDICATION                    int64\n",
       "CRASH_DAY_OF_WEEK                         int64\n",
       "CRASH_MONTH                               int64\n",
       "dtype: object"
      ]
     },
     "execution_count": 48,
     "metadata": {},
     "output_type": "execute_result"
    }
   ],
   "source": [
    "df.dtypes"
   ]
  },
  {
   "cell_type": "code",
   "execution_count": 131,
   "id": "e1fd1cf2",
   "metadata": {},
   "outputs": [],
   "source": [
    "data_types = {'INJURIES_TOTAL': int, 'INJURIES_FATAL': int, 'INJURIES_INCAPACITATING' : int,\n",
    "              'INJURIES_NON_INCAPACITATING' : int,'INJURIES_REPORTED_NOT_EVIDENT' : int,\n",
    "             'INJURIES_NO_INDICATION': int}\n",
    "df = df.astype(data_types)"
   ]
  },
  {
   "cell_type": "code",
   "execution_count": 132,
   "id": "3bacebea",
   "metadata": {},
   "outputs": [],
   "source": [
    "df['DATE_POLICE_NOTIFIED'] = pd.to_datetime(df['DATE_POLICE_NOTIFIED'])"
   ]
  },
  {
   "cell_type": "code",
   "execution_count": null,
   "id": "bf5a0318",
   "metadata": {},
   "outputs": [],
   "source": [
    "#Check for nulls and fix accordingly"
   ]
  },
  {
   "cell_type": "code",
   "execution_count": 51,
   "id": "79772350",
   "metadata": {},
   "outputs": [
    {
     "data": {
      "text/plain": [
       "ID                                       object\n",
       "CRASH_DATE                       datetime64[ns]\n",
       "POSTED_SPEED_LIMIT                        int64\n",
       "TRAFFIC_SIGN                             object\n",
       "WEATHER_CONDITION                        object\n",
       "LIGHTING_CONDITION                       object\n",
       "CRASH_TYPE                               object\n",
       "TRAFFICWAY_TYPE                          object\n",
       "ROAD_CONDITION                           object\n",
       "HIT_AND_RUN                              object\n",
       "DAMAGE_ESTIMATE                          object\n",
       "DATE_POLICE_NOTIFIED             datetime64[ns]\n",
       "CAUSE_OF_ACCIDENT                        object\n",
       "STREET_NO                                 int64\n",
       "STREET_DIRECTION                         object\n",
       "STREET_NAME                              object\n",
       "WORK_ZONE                                object\n",
       "NUM_UNITS                                 int64\n",
       "INJURIES_TOTAL                            int64\n",
       "INJURIES_FATAL                            int64\n",
       "INJURIES_INCAPACITATING                   int64\n",
       "INJURIES_NON_INCAPACITATING               int64\n",
       "INJURIES_REPORTED_NOT_EVIDENT             int64\n",
       "INJURIES_NO_INDICATION                    int64\n",
       "CRASH_DAY_OF_WEEK                         int64\n",
       "CRASH_MONTH                               int64\n",
       "dtype: object"
      ]
     },
     "execution_count": 51,
     "metadata": {},
     "output_type": "execute_result"
    }
   ],
   "source": [
    "df.dtypes"
   ]
  },
  {
   "cell_type": "code",
   "execution_count": 52,
   "id": "c9b508ee",
   "metadata": {},
   "outputs": [
    {
     "data": {
      "text/plain": [
       "ID                               False\n",
       "CRASH_DATE                       False\n",
       "POSTED_SPEED_LIMIT               False\n",
       "TRAFFIC_SIGN                     False\n",
       "WEATHER_CONDITION                False\n",
       "LIGHTING_CONDITION               False\n",
       "CRASH_TYPE                       False\n",
       "TRAFFICWAY_TYPE                  False\n",
       "ROAD_CONDITION                   False\n",
       "HIT_AND_RUN                       True\n",
       "DAMAGE_ESTIMATE                  False\n",
       "DATE_POLICE_NOTIFIED             False\n",
       "CAUSE_OF_ACCIDENT                False\n",
       "STREET_NO                        False\n",
       "STREET_DIRECTION                 False\n",
       "STREET_NAME                      False\n",
       "WORK_ZONE                         True\n",
       "NUM_UNITS                        False\n",
       "INJURIES_TOTAL                   False\n",
       "INJURIES_FATAL                   False\n",
       "INJURIES_INCAPACITATING          False\n",
       "INJURIES_NON_INCAPACITATING      False\n",
       "INJURIES_REPORTED_NOT_EVIDENT    False\n",
       "INJURIES_NO_INDICATION           False\n",
       "CRASH_DAY_OF_WEEK                False\n",
       "CRASH_MONTH                      False\n",
       "dtype: bool"
      ]
     },
     "execution_count": 52,
     "metadata": {},
     "output_type": "execute_result"
    }
   ],
   "source": [
    "df.isnull().any()"
   ]
  },
  {
   "cell_type": "code",
   "execution_count": 133,
   "id": "d0a30624",
   "metadata": {},
   "outputs": [],
   "source": [
    "df['HIT_AND_RUN'] = df['HIT_AND_RUN'].fillna('N')"
   ]
  },
  {
   "cell_type": "code",
   "execution_count": 134,
   "id": "c3551871",
   "metadata": {},
   "outputs": [],
   "source": [
    "df['WORK_ZONE'] = df['WORK_ZONE'].fillna('N')"
   ]
  },
  {
   "cell_type": "code",
   "execution_count": 60,
   "id": "6847ce3e",
   "metadata": {},
   "outputs": [
    {
     "data": {
      "text/plain": [
       "ID                               False\n",
       "CRASH_DATE                       False\n",
       "POSTED_SPEED_LIMIT               False\n",
       "TRAFFIC_SIGN                     False\n",
       "WEATHER_CONDITION                False\n",
       "LIGHTING_CONDITION               False\n",
       "CRASH_TYPE                       False\n",
       "TRAFFICWAY_TYPE                  False\n",
       "ROAD_CONDITION                   False\n",
       "HIT_AND_RUN                      False\n",
       "DAMAGE_ESTIMATE                  False\n",
       "DATE_POLICE_NOTIFIED             False\n",
       "CAUSE_OF_ACCIDENT                False\n",
       "STREET_NO                        False\n",
       "STREET_DIRECTION                 False\n",
       "STREET_NAME                      False\n",
       "WORK_ZONE                        False\n",
       "NUM_UNITS                        False\n",
       "INJURIES_TOTAL                   False\n",
       "INJURIES_FATAL                   False\n",
       "INJURIES_INCAPACITATING          False\n",
       "INJURIES_NON_INCAPACITATING      False\n",
       "INJURIES_REPORTED_NOT_EVIDENT    False\n",
       "INJURIES_NO_INDICATION           False\n",
       "CRASH_DAY_OF_WEEK                False\n",
       "CRASH_MONTH                      False\n",
       "dtype: bool"
      ]
     },
     "execution_count": 60,
     "metadata": {},
     "output_type": "execute_result"
    }
   ],
   "source": [
    "df.isnull().any()"
   ]
  },
  {
   "cell_type": "code",
   "execution_count": 159,
   "id": "2e9c465b",
   "metadata": {},
   "outputs": [
    {
     "data": {
      "text/html": [
       "<div>\n",
       "<style scoped>\n",
       "    .dataframe tbody tr th:only-of-type {\n",
       "        vertical-align: middle;\n",
       "    }\n",
       "\n",
       "    .dataframe tbody tr th {\n",
       "        vertical-align: top;\n",
       "    }\n",
       "\n",
       "    .dataframe thead th {\n",
       "        text-align: right;\n",
       "    }\n",
       "</style>\n",
       "<table border=\"1\" class=\"dataframe\">\n",
       "  <thead>\n",
       "    <tr style=\"text-align: right;\">\n",
       "      <th></th>\n",
       "      <th>ID</th>\n",
       "      <th>CRASH_DATE</th>\n",
       "      <th>POSTED_SPEED_LIMIT</th>\n",
       "      <th>TRAFFIC_SIGN</th>\n",
       "      <th>WEATHER_CONDITION</th>\n",
       "      <th>LIGHTING_CONDITION</th>\n",
       "      <th>TRAFFICWAY_TYPE</th>\n",
       "      <th>ROAD_CONDITION</th>\n",
       "      <th>HIT_AND_RUN</th>\n",
       "      <th>DAMAGE_ESTIMATE</th>\n",
       "      <th>DATE_POLICE_NOTIFIED</th>\n",
       "      <th>CAUSE_OF_ACCIDENT</th>\n",
       "      <th>STREET_NO</th>\n",
       "      <th>STREET_DIRECTION</th>\n",
       "      <th>STREET_NAME</th>\n",
       "      <th>WORK_ZONE</th>\n",
       "      <th>NUM_UNITS</th>\n",
       "      <th>INJURIES_TOTAL</th>\n",
       "      <th>INJURIES_FATAL</th>\n",
       "      <th>INJURIES_INCAPACITATING</th>\n",
       "      <th>INJURIES_NON_INCAPACITATING</th>\n",
       "      <th>INJURIES_REPORTED_NOT_EVIDENT</th>\n",
       "      <th>INJURIES_NO_INDICATION</th>\n",
       "      <th>CRASH_DAY_OF_WEEK</th>\n",
       "      <th>CRASH_MONTH</th>\n",
       "    </tr>\n",
       "  </thead>\n",
       "  <tbody>\n",
       "    <tr>\n",
       "      <th>0</th>\n",
       "      <td>JF486690</td>\n",
       "      <td>2022-11-25 00:00:00</td>\n",
       "      <td>25</td>\n",
       "      <td>TRAFFIC SIGNAL</td>\n",
       "      <td>CLEAR</td>\n",
       "      <td>DARKNESS, LIGHTED ROAD</td>\n",
       "      <td>FOUR WAY</td>\n",
       "      <td>DRY</td>\n",
       "      <td>Y</td>\n",
       "      <td>OVER $1,500</td>\n",
       "      <td>2022-11-25 00:03:00</td>\n",
       "      <td>FAILING TO YIELD RIGHT-OF-WAY</td>\n",
       "      <td>4900</td>\n",
       "      <td>S</td>\n",
       "      <td>MICHIGAN AVE</td>\n",
       "      <td>N</td>\n",
       "      <td>5</td>\n",
       "      <td>3</td>\n",
       "      <td>0</td>\n",
       "      <td>2</td>\n",
       "      <td>1</td>\n",
       "      <td>0</td>\n",
       "      <td>2</td>\n",
       "      <td>6</td>\n",
       "      <td>11</td>\n",
       "    </tr>\n",
       "    <tr>\n",
       "      <th>1</th>\n",
       "      <td>JF527711</td>\n",
       "      <td>2022-12-30 15:40:00</td>\n",
       "      <td>25</td>\n",
       "      <td>NO CONTROLS</td>\n",
       "      <td>CLEAR</td>\n",
       "      <td>DAYLIGHT</td>\n",
       "      <td>NOT DIVIDED</td>\n",
       "      <td>DRY</td>\n",
       "      <td>Y</td>\n",
       "      <td>OVER $1,500</td>\n",
       "      <td>2022-12-30 15:40:00</td>\n",
       "      <td>UNABLE TO DETERMINE</td>\n",
       "      <td>1000</td>\n",
       "      <td>S</td>\n",
       "      <td>KOSTNER AVE</td>\n",
       "      <td>N</td>\n",
       "      <td>3</td>\n",
       "      <td>1</td>\n",
       "      <td>0</td>\n",
       "      <td>0</td>\n",
       "      <td>1</td>\n",
       "      <td>0</td>\n",
       "      <td>3</td>\n",
       "      <td>6</td>\n",
       "      <td>12</td>\n",
       "    </tr>\n",
       "    <tr>\n",
       "      <th>2</th>\n",
       "      <td>JF223730</td>\n",
       "      <td>2022-04-29 00:05:00</td>\n",
       "      <td>30</td>\n",
       "      <td>TRAFFIC SIGNAL</td>\n",
       "      <td>CLEAR</td>\n",
       "      <td>DARKNESS, LIGHTED ROAD</td>\n",
       "      <td>NOT DIVIDED</td>\n",
       "      <td>DRY</td>\n",
       "      <td>Y</td>\n",
       "      <td>OVER $1,500</td>\n",
       "      <td>2022-04-29 00:08:00</td>\n",
       "      <td>UNABLE TO DETERMINE</td>\n",
       "      <td>510</td>\n",
       "      <td>N</td>\n",
       "      <td>CICERO AVE</td>\n",
       "      <td>N</td>\n",
       "      <td>3</td>\n",
       "      <td>1</td>\n",
       "      <td>0</td>\n",
       "      <td>0</td>\n",
       "      <td>1</td>\n",
       "      <td>0</td>\n",
       "      <td>4</td>\n",
       "      <td>6</td>\n",
       "      <td>4</td>\n",
       "    </tr>\n",
       "    <tr>\n",
       "      <th>3</th>\n",
       "      <td>JF252632</td>\n",
       "      <td>2022-05-23 12:38:00</td>\n",
       "      <td>30</td>\n",
       "      <td>NO CONTROLS</td>\n",
       "      <td>CLEAR</td>\n",
       "      <td>DAYLIGHT</td>\n",
       "      <td>NOT DIVIDED</td>\n",
       "      <td>DRY</td>\n",
       "      <td>N</td>\n",
       "      <td>OVER $1,500</td>\n",
       "      <td>2022-05-23 12:54:00</td>\n",
       "      <td>UNABLE TO DETERMINE</td>\n",
       "      <td>10904</td>\n",
       "      <td>S</td>\n",
       "      <td>EWING AVE</td>\n",
       "      <td>N</td>\n",
       "      <td>2</td>\n",
       "      <td>1</td>\n",
       "      <td>0</td>\n",
       "      <td>1</td>\n",
       "      <td>0</td>\n",
       "      <td>0</td>\n",
       "      <td>2</td>\n",
       "      <td>2</td>\n",
       "      <td>5</td>\n",
       "    </tr>\n",
       "    <tr>\n",
       "      <th>4</th>\n",
       "      <td>JF210064</td>\n",
       "      <td>2022-04-16 10:36:00</td>\n",
       "      <td>30</td>\n",
       "      <td>NO CONTROLS</td>\n",
       "      <td>CLEAR</td>\n",
       "      <td>DAYLIGHT</td>\n",
       "      <td>DIVIDED - W/MEDIAN (NOT RAISED)</td>\n",
       "      <td>DRY</td>\n",
       "      <td>N</td>\n",
       "      <td>$501 - $1,500</td>\n",
       "      <td>2022-04-16 10:36:00</td>\n",
       "      <td>EVASIVE ACTION DUE TO ANIMAL, OBJECT, NONMOTORIST</td>\n",
       "      <td>6250</td>\n",
       "      <td>N</td>\n",
       "      <td>LINCOLN AVE</td>\n",
       "      <td>N</td>\n",
       "      <td>2</td>\n",
       "      <td>1</td>\n",
       "      <td>0</td>\n",
       "      <td>1</td>\n",
       "      <td>0</td>\n",
       "      <td>0</td>\n",
       "      <td>2</td>\n",
       "      <td>7</td>\n",
       "      <td>4</td>\n",
       "    </tr>\n",
       "    <tr>\n",
       "      <th>...</th>\n",
       "      <td>...</td>\n",
       "      <td>...</td>\n",
       "      <td>...</td>\n",
       "      <td>...</td>\n",
       "      <td>...</td>\n",
       "      <td>...</td>\n",
       "      <td>...</td>\n",
       "      <td>...</td>\n",
       "      <td>...</td>\n",
       "      <td>...</td>\n",
       "      <td>...</td>\n",
       "      <td>...</td>\n",
       "      <td>...</td>\n",
       "      <td>...</td>\n",
       "      <td>...</td>\n",
       "      <td>...</td>\n",
       "      <td>...</td>\n",
       "      <td>...</td>\n",
       "      <td>...</td>\n",
       "      <td>...</td>\n",
       "      <td>...</td>\n",
       "      <td>...</td>\n",
       "      <td>...</td>\n",
       "      <td>...</td>\n",
       "      <td>...</td>\n",
       "    </tr>\n",
       "    <tr>\n",
       "      <th>16027</th>\n",
       "      <td>JF210763</td>\n",
       "      <td>2022-04-17 14:54:00</td>\n",
       "      <td>30</td>\n",
       "      <td>STOP SIGN/FLASHER</td>\n",
       "      <td>CLEAR</td>\n",
       "      <td>DAYLIGHT</td>\n",
       "      <td>NOT DIVIDED</td>\n",
       "      <td>DRY</td>\n",
       "      <td>N</td>\n",
       "      <td>$500 OR LESS</td>\n",
       "      <td>2022-04-17 14:54:00</td>\n",
       "      <td>FAILING TO YIELD RIGHT-OF-WAY</td>\n",
       "      <td>4500</td>\n",
       "      <td>N</td>\n",
       "      <td>HAZEL ST</td>\n",
       "      <td>N</td>\n",
       "      <td>2</td>\n",
       "      <td>2</td>\n",
       "      <td>1</td>\n",
       "      <td>0</td>\n",
       "      <td>1</td>\n",
       "      <td>0</td>\n",
       "      <td>5</td>\n",
       "      <td>1</td>\n",
       "      <td>4</td>\n",
       "    </tr>\n",
       "    <tr>\n",
       "      <th>16028</th>\n",
       "      <td>JF141863</td>\n",
       "      <td>2022-02-12 00:45:00</td>\n",
       "      <td>40</td>\n",
       "      <td>NO CONTROLS</td>\n",
       "      <td>CLEAR</td>\n",
       "      <td>DARKNESS</td>\n",
       "      <td>OTHER</td>\n",
       "      <td>UNKNOWN</td>\n",
       "      <td>N</td>\n",
       "      <td>OVER $1,500</td>\n",
       "      <td>2022-02-12 00:51:00</td>\n",
       "      <td>UNABLE TO DETERMINE</td>\n",
       "      <td>3900</td>\n",
       "      <td>N</td>\n",
       "      <td>LAKE SHORE DR</td>\n",
       "      <td>N</td>\n",
       "      <td>3</td>\n",
       "      <td>3</td>\n",
       "      <td>0</td>\n",
       "      <td>0</td>\n",
       "      <td>2</td>\n",
       "      <td>1</td>\n",
       "      <td>2</td>\n",
       "      <td>7</td>\n",
       "      <td>2</td>\n",
       "    </tr>\n",
       "    <tr>\n",
       "      <th>16029</th>\n",
       "      <td>JF135261</td>\n",
       "      <td>2022-02-06 01:49:00</td>\n",
       "      <td>30</td>\n",
       "      <td>NO CONTROLS</td>\n",
       "      <td>CLEAR</td>\n",
       "      <td>DARKNESS, LIGHTED ROAD</td>\n",
       "      <td>DIVIDED - W/MEDIAN BARRIER</td>\n",
       "      <td>DRY</td>\n",
       "      <td>Y</td>\n",
       "      <td>OVER $1,500</td>\n",
       "      <td>2022-02-06 01:54:00</td>\n",
       "      <td>FAILING TO REDUCE SPEED TO AVOID CRASH</td>\n",
       "      <td>5649</td>\n",
       "      <td>N</td>\n",
       "      <td>LAKE SHORE DR SB</td>\n",
       "      <td>N</td>\n",
       "      <td>2</td>\n",
       "      <td>1</td>\n",
       "      <td>0</td>\n",
       "      <td>0</td>\n",
       "      <td>0</td>\n",
       "      <td>1</td>\n",
       "      <td>3</td>\n",
       "      <td>1</td>\n",
       "      <td>2</td>\n",
       "    </tr>\n",
       "    <tr>\n",
       "      <th>16030</th>\n",
       "      <td>JF279207</td>\n",
       "      <td>2022-06-14 11:20:00</td>\n",
       "      <td>30</td>\n",
       "      <td>TRAFFIC SIGNAL</td>\n",
       "      <td>CLEAR</td>\n",
       "      <td>DAYLIGHT</td>\n",
       "      <td>NOT DIVIDED</td>\n",
       "      <td>DRY</td>\n",
       "      <td>N</td>\n",
       "      <td>OVER $1,500</td>\n",
       "      <td>2022-06-14 11:31:00</td>\n",
       "      <td>IMPROPER TURNING/NO SIGNAL</td>\n",
       "      <td>4758</td>\n",
       "      <td>W</td>\n",
       "      <td>FLOURNOY ST</td>\n",
       "      <td>N</td>\n",
       "      <td>2</td>\n",
       "      <td>2</td>\n",
       "      <td>0</td>\n",
       "      <td>0</td>\n",
       "      <td>0</td>\n",
       "      <td>2</td>\n",
       "      <td>2</td>\n",
       "      <td>3</td>\n",
       "      <td>6</td>\n",
       "    </tr>\n",
       "    <tr>\n",
       "      <th>16031</th>\n",
       "      <td>JF194796</td>\n",
       "      <td>2022-04-02 12:18:00</td>\n",
       "      <td>30</td>\n",
       "      <td>TRAFFIC SIGNAL</td>\n",
       "      <td>RAIN</td>\n",
       "      <td>UNKNOWN</td>\n",
       "      <td>FOUR WAY</td>\n",
       "      <td>WET</td>\n",
       "      <td>N</td>\n",
       "      <td>OVER $1,500</td>\n",
       "      <td>2022-04-02 13:40:00</td>\n",
       "      <td>UNABLE TO DETERMINE</td>\n",
       "      <td>1920</td>\n",
       "      <td>S</td>\n",
       "      <td>RUBLE ST</td>\n",
       "      <td>N</td>\n",
       "      <td>2</td>\n",
       "      <td>1</td>\n",
       "      <td>0</td>\n",
       "      <td>0</td>\n",
       "      <td>1</td>\n",
       "      <td>0</td>\n",
       "      <td>2</td>\n",
       "      <td>7</td>\n",
       "      <td>4</td>\n",
       "    </tr>\n",
       "  </tbody>\n",
       "</table>\n",
       "<p>16032 rows × 25 columns</p>\n",
       "</div>"
      ],
      "text/plain": [
       "             ID          CRASH_DATE  POSTED_SPEED_LIMIT       TRAFFIC_SIGN  \\\n",
       "0      JF486690 2022-11-25 00:00:00                  25     TRAFFIC SIGNAL   \n",
       "1      JF527711 2022-12-30 15:40:00                  25        NO CONTROLS   \n",
       "2      JF223730 2022-04-29 00:05:00                  30     TRAFFIC SIGNAL   \n",
       "3      JF252632 2022-05-23 12:38:00                  30        NO CONTROLS   \n",
       "4      JF210064 2022-04-16 10:36:00                  30        NO CONTROLS   \n",
       "...         ...                 ...                 ...                ...   \n",
       "16027  JF210763 2022-04-17 14:54:00                  30  STOP SIGN/FLASHER   \n",
       "16028  JF141863 2022-02-12 00:45:00                  40        NO CONTROLS   \n",
       "16029  JF135261 2022-02-06 01:49:00                  30        NO CONTROLS   \n",
       "16030  JF279207 2022-06-14 11:20:00                  30     TRAFFIC SIGNAL   \n",
       "16031  JF194796 2022-04-02 12:18:00                  30     TRAFFIC SIGNAL   \n",
       "\n",
       "      WEATHER_CONDITION      LIGHTING_CONDITION  \\\n",
       "0                 CLEAR  DARKNESS, LIGHTED ROAD   \n",
       "1                 CLEAR                DAYLIGHT   \n",
       "2                 CLEAR  DARKNESS, LIGHTED ROAD   \n",
       "3                 CLEAR                DAYLIGHT   \n",
       "4                 CLEAR                DAYLIGHT   \n",
       "...                 ...                     ...   \n",
       "16027             CLEAR                DAYLIGHT   \n",
       "16028             CLEAR                DARKNESS   \n",
       "16029             CLEAR  DARKNESS, LIGHTED ROAD   \n",
       "16030             CLEAR                DAYLIGHT   \n",
       "16031              RAIN                 UNKNOWN   \n",
       "\n",
       "                       TRAFFICWAY_TYPE ROAD_CONDITION HIT_AND_RUN  \\\n",
       "0                             FOUR WAY            DRY           Y   \n",
       "1                          NOT DIVIDED            DRY           Y   \n",
       "2                          NOT DIVIDED            DRY           Y   \n",
       "3                          NOT DIVIDED            DRY           N   \n",
       "4      DIVIDED - W/MEDIAN (NOT RAISED)            DRY           N   \n",
       "...                                ...            ...         ...   \n",
       "16027                      NOT DIVIDED            DRY           N   \n",
       "16028                            OTHER        UNKNOWN           N   \n",
       "16029       DIVIDED - W/MEDIAN BARRIER            DRY           Y   \n",
       "16030                      NOT DIVIDED            DRY           N   \n",
       "16031                         FOUR WAY            WET           N   \n",
       "\n",
       "      DAMAGE_ESTIMATE DATE_POLICE_NOTIFIED  \\\n",
       "0         OVER $1,500  2022-11-25 00:03:00   \n",
       "1         OVER $1,500  2022-12-30 15:40:00   \n",
       "2         OVER $1,500  2022-04-29 00:08:00   \n",
       "3         OVER $1,500  2022-05-23 12:54:00   \n",
       "4       $501 - $1,500  2022-04-16 10:36:00   \n",
       "...               ...                  ...   \n",
       "16027    $500 OR LESS  2022-04-17 14:54:00   \n",
       "16028     OVER $1,500  2022-02-12 00:51:00   \n",
       "16029     OVER $1,500  2022-02-06 01:54:00   \n",
       "16030     OVER $1,500  2022-06-14 11:31:00   \n",
       "16031     OVER $1,500  2022-04-02 13:40:00   \n",
       "\n",
       "                                       CAUSE_OF_ACCIDENT  STREET_NO  \\\n",
       "0                          FAILING TO YIELD RIGHT-OF-WAY       4900   \n",
       "1                                    UNABLE TO DETERMINE       1000   \n",
       "2                                    UNABLE TO DETERMINE        510   \n",
       "3                                    UNABLE TO DETERMINE      10904   \n",
       "4      EVASIVE ACTION DUE TO ANIMAL, OBJECT, NONMOTORIST       6250   \n",
       "...                                                  ...        ...   \n",
       "16027                      FAILING TO YIELD RIGHT-OF-WAY       4500   \n",
       "16028                                UNABLE TO DETERMINE       3900   \n",
       "16029             FAILING TO REDUCE SPEED TO AVOID CRASH       5649   \n",
       "16030                         IMPROPER TURNING/NO SIGNAL       4758   \n",
       "16031                                UNABLE TO DETERMINE       1920   \n",
       "\n",
       "      STREET_DIRECTION       STREET_NAME WORK_ZONE  NUM_UNITS  INJURIES_TOTAL  \\\n",
       "0                    S      MICHIGAN AVE         N          5               3   \n",
       "1                    S       KOSTNER AVE         N          3               1   \n",
       "2                    N        CICERO AVE         N          3               1   \n",
       "3                    S         EWING AVE         N          2               1   \n",
       "4                    N       LINCOLN AVE         N          2               1   \n",
       "...                ...               ...       ...        ...             ...   \n",
       "16027                N          HAZEL ST         N          2               2   \n",
       "16028                N     LAKE SHORE DR         N          3               3   \n",
       "16029                N  LAKE SHORE DR SB         N          2               1   \n",
       "16030                W       FLOURNOY ST         N          2               2   \n",
       "16031                S          RUBLE ST         N          2               1   \n",
       "\n",
       "       INJURIES_FATAL  INJURIES_INCAPACITATING  INJURIES_NON_INCAPACITATING  \\\n",
       "0                   0                        2                            1   \n",
       "1                   0                        0                            1   \n",
       "2                   0                        0                            1   \n",
       "3                   0                        1                            0   \n",
       "4                   0                        1                            0   \n",
       "...               ...                      ...                          ...   \n",
       "16027               1                        0                            1   \n",
       "16028               0                        0                            2   \n",
       "16029               0                        0                            0   \n",
       "16030               0                        0                            0   \n",
       "16031               0                        0                            1   \n",
       "\n",
       "       INJURIES_REPORTED_NOT_EVIDENT  INJURIES_NO_INDICATION  \\\n",
       "0                                  0                       2   \n",
       "1                                  0                       3   \n",
       "2                                  0                       4   \n",
       "3                                  0                       2   \n",
       "4                                  0                       2   \n",
       "...                              ...                     ...   \n",
       "16027                              0                       5   \n",
       "16028                              1                       2   \n",
       "16029                              1                       3   \n",
       "16030                              2                       2   \n",
       "16031                              0                       2   \n",
       "\n",
       "       CRASH_DAY_OF_WEEK  CRASH_MONTH  \n",
       "0                      6           11  \n",
       "1                      6           12  \n",
       "2                      6            4  \n",
       "3                      2            5  \n",
       "4                      7            4  \n",
       "...                  ...          ...  \n",
       "16027                  1            4  \n",
       "16028                  7            2  \n",
       "16029                  1            2  \n",
       "16030                  3            6  \n",
       "16031                  7            4  \n",
       "\n",
       "[16032 rows x 25 columns]"
      ]
     },
     "execution_count": 159,
     "metadata": {},
     "output_type": "execute_result"
    }
   ],
   "source": [
    "df"
   ]
  },
  {
   "cell_type": "code",
   "execution_count": 64,
   "id": "7befdee2",
   "metadata": {},
   "outputs": [],
   "source": [
    "#How many total injuries from crashes with injuries?"
   ]
  },
  {
   "cell_type": "code",
   "execution_count": 136,
   "id": "cd2229ab",
   "metadata": {},
   "outputs": [
    {
     "name": "stdout",
     "output_type": "stream",
     "text": [
      "(16032, 47)\n"
     ]
    }
   ],
   "source": [
    "print(df.shape)"
   ]
  },
  {
   "cell_type": "code",
   "execution_count": 67,
   "id": "bea18856",
   "metadata": {},
   "outputs": [
    {
     "data": {
      "text/plain": [
       "22086"
      ]
     },
     "execution_count": 67,
     "metadata": {},
     "output_type": "execute_result"
    }
   ],
   "source": [
    "sum_of_injueries = df['INJURIES_TOTAL'].sum()\n",
    "sum_of_injueries"
   ]
  },
  {
   "cell_type": "code",
   "execution_count": 68,
   "id": "bd9c4db5",
   "metadata": {},
   "outputs": [],
   "source": [
    "#how many fatalities"
   ]
  },
  {
   "cell_type": "code",
   "execution_count": 69,
   "id": "3176b47b",
   "metadata": {},
   "outputs": [
    {
     "data": {
      "text/plain": [
       "150"
      ]
     },
     "execution_count": 69,
     "metadata": {},
     "output_type": "execute_result"
    }
   ],
   "source": [
    "sum_of_fatalities = df['INJURIES_FATAL'].sum()\n",
    "sum_of_fatalities"
   ]
  },
  {
   "cell_type": "code",
   "execution_count": 76,
   "id": "134396f4",
   "metadata": {},
   "outputs": [],
   "source": [
    "#Fatality count by day of the week (1= Sunday)"
   ]
  },
  {
   "cell_type": "code",
   "execution_count": 77,
   "id": "3fe9bbb8",
   "metadata": {},
   "outputs": [
    {
     "data": {
      "text/plain": [
       "CRASH_DAY_OF_WEEK\n",
       "1    28\n",
       "2    22\n",
       "3    11\n",
       "4    18\n",
       "5    23\n",
       "6    20\n",
       "7    28\n",
       "Name: INJURIES_FATAL, dtype: int64"
      ]
     },
     "execution_count": 77,
     "metadata": {},
     "output_type": "execute_result"
    }
   ],
   "source": [
    "fatality_weekday = df.groupby('CRASH_DAY_OF_WEEK')['INJURIES_FATAL'].sum()\n",
    "fatality_weekday"
   ]
  },
  {
   "cell_type": "code",
   "execution_count": 198,
   "id": "1a46a929",
   "metadata": {},
   "outputs": [
    {
     "data": {
      "text/plain": [
       "<Axes: xlabel='CRASH_DAY_OF_WEEK', ylabel='count'>"
      ]
     },
     "execution_count": 198,
     "metadata": {},
     "output_type": "execute_result"
    },
    {
     "data": {
      "image/png": "[encoded data removed]",
      "text/plain": [
       "<Figure size 640x480 with 1 Axes>"
      ]
     },
     "metadata": {},
     "output_type": "display_data"
    }
   ],
   "source": [
    "filtered_df = df[df['INJURIES_FATAL'].isin([1, 2, 3])]\n",
    "sns.countplot(data= filtered_df, x='CRASH_DAY_OF_WEEK', hue='INJURIES_FATAL')\n"
   ]
  },
  {
   "cell_type": "code",
   "execution_count": null,
   "id": "0569b6f1",
   "metadata": {},
   "outputs": [],
   "source": [
    "#Fatality count by month (1= January)"
   ]
  },
  {
   "cell_type": "code",
   "execution_count": 78,
   "id": "5bc32303",
   "metadata": {},
   "outputs": [
    {
     "data": {
      "text/plain": [
       "CRASH_MONTH\n",
       "1     12\n",
       "2     14\n",
       "3     11\n",
       "4     11\n",
       "5      9\n",
       "6      8\n",
       "7     19\n",
       "8     12\n",
       "9     15\n",
       "10    11\n",
       "11    10\n",
       "12    18\n",
       "Name: INJURIES_FATAL, dtype: int64"
      ]
     },
     "execution_count": 78,
     "metadata": {},
     "output_type": "execute_result"
    }
   ],
   "source": [
    "fatality_month = df.groupby('CRASH_MONTH')['INJURIES_FATAL'].sum()\n",
    "fatality_month"
   ]
  },
  {
   "cell_type": "code",
   "execution_count": 214,
   "id": "ff9d2459",
   "metadata": {},
   "outputs": [
    {
     "data": {
      "text/plain": [
       "<Axes: xlabel='CRASH_MONTH', ylabel='INJURIES_FATAL'>"
      ]
     },
     "execution_count": 214,
     "metadata": {},
     "output_type": "execute_result"
    },
    {
     "data": {
      "image/png": "[encoded data removed]",
      "text/plain": [
       "<Figure size 640x480 with 1 Axes>"
      ]
     },
     "metadata": {},
     "output_type": "display_data"
    }
   ],
   "source": [
    "fatality_month = df.groupby('CRASH_MONTH')['INJURIES_FATAL'].sum().reset_index()\n",
    "sns.barplot(data=fatality_month, x='CRASH_MONTH', y='INJURIES_FATAL')"
   ]
  },
  {
   "cell_type": "code",
   "execution_count": 70,
   "id": "3c2f4733",
   "metadata": {},
   "outputs": [],
   "source": [
    "#aveage number of units involed (car or person = 1 unit)"
   ]
  },
  {
   "cell_type": "code",
   "execution_count": 75,
   "id": "f3141e48",
   "metadata": {},
   "outputs": [
    {
     "data": {
      "text/plain": [
       "2.0"
      ]
     },
     "execution_count": 75,
     "metadata": {},
     "output_type": "execute_result"
    }
   ],
   "source": [
    "avg_units = round(df['NUM_UNITS'].mean(),0)\n",
    "avg_units"
   ]
  },
  {
   "cell_type": "code",
   "execution_count": null,
   "id": "258cfb06",
   "metadata": {},
   "outputs": [],
   "source": [
    "#Crash Injuries by weather condition"
   ]
  },
  {
   "cell_type": "code",
   "execution_count": 81,
   "id": "6b1e7381",
   "metadata": {},
   "outputs": [
    {
     "data": {
      "text/plain": [
       "WEATHER_CONDITION\n",
       "BLOWING SNOW                 31\n",
       "CLEAR                     12880\n",
       "CLOUDY/OVERCAST             484\n",
       "FOG/SMOKE/HAZE               20\n",
       "FREEZING RAIN/DRIZZLE        79\n",
       "OTHER                        82\n",
       "RAIN                       1516\n",
       "SEVERE CROSS WIND GATE        2\n",
       "SLEET/HAIL                   17\n",
       "SNOW                        536\n",
       "UNKNOWN                     385\n",
       "dtype: int64"
      ]
     },
     "execution_count": 81,
     "metadata": {},
     "output_type": "execute_result"
    }
   ],
   "source": [
    "Weather = df.groupby('WEATHER_CONDITION').size()\n",
    "Weather"
   ]
  },
  {
   "cell_type": "code",
   "execution_count": null,
   "id": "bf820f79",
   "metadata": {},
   "outputs": [],
   "source": [
    "#Crash Injuries by lighting condition"
   ]
  },
  {
   "cell_type": "code",
   "execution_count": 82,
   "id": "b202fea6",
   "metadata": {},
   "outputs": [
    {
     "data": {
      "text/plain": [
       "LIGHTING_CONDITION\n",
       "DARKNESS                   624\n",
       "DARKNESS, LIGHTED ROAD    4676\n",
       "DAWN                       284\n",
       "DAYLIGHT                  9742\n",
       "DUSK                       457\n",
       "UNKNOWN                    249\n",
       "dtype: int64"
      ]
     },
     "execution_count": 82,
     "metadata": {},
     "output_type": "execute_result"
    }
   ],
   "source": [
    "Lighting = df.groupby('LIGHTING_CONDITION').size()\n",
    "Lighting"
   ]
  },
  {
   "cell_type": "code",
   "execution_count": null,
   "id": "b3e8316b",
   "metadata": {},
   "outputs": [],
   "source": [
    "#Top 5 Crash Injuries by Cause"
   ]
  },
  {
   "cell_type": "code",
   "execution_count": 85,
   "id": "d3cee4db",
   "metadata": {},
   "outputs": [
    {
     "data": {
      "text/plain": [
       "CAUSE_OF_ACCIDENT\n",
       "UNABLE TO DETERMINE                       5209\n",
       "FAILING TO YIELD RIGHT-OF-WAY             2977\n",
       "FOLLOWING TOO CLOSELY                     1088\n",
       "FAILING TO REDUCE SPEED TO AVOID CRASH    1077\n",
       "DISREGARDING TRAFFIC SIGNALS               968\n",
       "dtype: int64"
      ]
     },
     "execution_count": 85,
     "metadata": {},
     "output_type": "execute_result"
    }
   ],
   "source": [
    "Cause = df.groupby('CAUSE_OF_ACCIDENT').size()\n",
    "Top5Cause = Cause.nlargest(5)\n",
    "Top5Cause"
   ]
  },
  {
   "cell_type": "code",
   "execution_count": null,
   "id": "12d65719",
   "metadata": {},
   "outputs": [],
   "source": [
    "#Bottom 5 Crash Injuries by Cause"
   ]
  },
  {
   "cell_type": "code",
   "execution_count": 86,
   "id": "0a182c18",
   "metadata": {},
   "outputs": [
    {
     "data": {
      "text/plain": [
       "CAUSE_OF_ACCIDENT\n",
       "MOTORCYCLE ADVANCING LEGALLY ON RED LIGHT    1\n",
       "BICYCLE ADVANCING LEGALLY ON RED LIGHT       3\n",
       "TEXTING                                      4\n",
       "ANIMAL                                       6\n",
       "OBSTRUCTED CROSSWALKS                        8\n",
       "dtype: int64"
      ]
     },
     "execution_count": 86,
     "metadata": {},
     "output_type": "execute_result"
    }
   ],
   "source": [
    "Cause = df.groupby('CAUSE_OF_ACCIDENT').size()\n",
    "Bot5Cause = Cause.nsmallest(5)\n",
    "Bot5Cause"
   ]
  },
  {
   "cell_type": "code",
   "execution_count": 89,
   "id": "15e9fba2",
   "metadata": {},
   "outputs": [],
   "source": [
    "#Top 3 Crash Injuries by speed limit"
   ]
  },
  {
   "cell_type": "code",
   "execution_count": 92,
   "id": "cd01c5c9",
   "metadata": {},
   "outputs": [
    {
     "data": {
      "text/plain": [
       "POSTED_SPEED_LIMIT\n",
       "30    12558\n",
       "35     1243\n",
       "25      843\n",
       "dtype: int64"
      ]
     },
     "execution_count": 92,
     "metadata": {},
     "output_type": "execute_result"
    }
   ],
   "source": [
    "Speed = df.groupby('POSTED_SPEED_LIMIT').size()\n",
    "Top3Speed = Speed.nlargest(3)\n",
    "Top3Speed"
   ]
  },
  {
   "cell_type": "code",
   "execution_count": 175,
   "id": "165ca433",
   "metadata": {},
   "outputs": [
    {
     "data": {
      "text/plain": [
       "<Axes: xlabel='POSTED_SPEED_LIMIT', ylabel='count'>"
      ]
     },
     "execution_count": 175,
     "metadata": {},
     "output_type": "execute_result"
    },
    {
     "data": {
      "image/png": "[encoded data removed]",
      "text/plain": [
       "<Figure size 640x480 with 1 Axes>"
      ]
     },
     "metadata": {},
     "output_type": "display_data"
    }
   ],
   "source": [
    "sns.countplot(x='POSTED_SPEED_LIMIT', data= df)"
   ]
  },
  {
   "cell_type": "code",
   "execution_count": null,
   "id": "083450d4",
   "metadata": {},
   "outputs": [],
   "source": [
    "#Top 5 Crash Injuries by Crash Type"
   ]
  },
  {
   "cell_type": "code",
   "execution_count": 94,
   "id": "73fc1402",
   "metadata": {},
   "outputs": [
    {
     "data": {
      "text/plain": [
       "CRASH_TYPE\n",
       "REAR END        3018\n",
       "ANGLE           2931\n",
       "TURNING         2829\n",
       "PEDESTRIAN      2183\n",
       "PEDALCYCLIST    1240\n",
       "dtype: int64"
      ]
     },
     "execution_count": 94,
     "metadata": {},
     "output_type": "execute_result"
    }
   ],
   "source": [
    "CrashType = df.groupby('CRASH_TYPE').size()\n",
    "Top5Type = CrashType.nlargest(5)\n",
    "Top5Type"
   ]
  },
  {
   "cell_type": "code",
   "execution_count": null,
   "id": "94eba341",
   "metadata": {},
   "outputs": [],
   "source": [
    "#Hit and Runs that were fatal. 1st out put is count. 2nd output is fatal counts"
   ]
  },
  {
   "cell_type": "code",
   "execution_count": 103,
   "id": "9860f6fc",
   "metadata": {},
   "outputs": [
    {
     "data": {
      "text/plain": [
       "HIT_AND_RUN\n",
       "N    12231\n",
       "Y     3801\n",
       "dtype: int64"
      ]
     },
     "execution_count": 103,
     "metadata": {},
     "output_type": "execute_result"
    }
   ],
   "source": [
    "HitRun = df.groupby('HIT_AND_RUN').size()\n",
    "HitRun"
   ]
  },
  {
   "cell_type": "code",
   "execution_count": 109,
   "id": "e97a9109",
   "metadata": {},
   "outputs": [
    {
     "data": {
      "text/plain": [
       "26"
      ]
     },
     "execution_count": 109,
     "metadata": {},
     "output_type": "execute_result"
    }
   ],
   "source": [
    "condition = df[(df['HIT_AND_RUN'] == 'Y') & (df['INJURIES_FATAL'] > 0)]\n",
    "fatalhit = len(condition)\n",
    "fatalhit"
   ]
  },
  {
   "cell_type": "code",
   "execution_count": null,
   "id": "09a3d476",
   "metadata": {},
   "outputs": [],
   "source": [
    "#Average amount of time in minutes between when the crash occurred and when police were contacted"
   ]
  },
  {
   "cell_type": "code",
   "execution_count": 112,
   "id": "7452ca16",
   "metadata": {},
   "outputs": [
    {
     "data": {
      "text/plain": [
       "332.0"
      ]
     },
     "execution_count": 112,
     "metadata": {},
     "output_type": "execute_result"
    }
   ],
   "source": [
    "timediff = round(((df['DATE_POLICE_NOTIFIED'] - df['CRASH_DATE']).dt.total_seconds() / 60).mean(),0)\n",
    "timediff"
   ]
  },
  {
   "cell_type": "code",
   "execution_count": null,
   "id": "60846876",
   "metadata": {},
   "outputs": [],
   "source": [
    "#5 hours average seems skewed by outliers. Redo based upon only injury crashes that were reported same day as crash\n",
    "    #pt2"
   ]
  },
  {
   "cell_type": "code",
   "execution_count": 117,
   "id": "7cbb9979",
   "metadata": {},
   "outputs": [
    {
     "data": {
      "text/plain": [
       "29.0"
      ]
     },
     "execution_count": 117,
     "metadata": {},
     "output_type": "execute_result"
    }
   ],
   "source": [
    "sameday = df[df['CRASH_DATE'].dt.date == df['DATE_POLICE_NOTIFIED'].dt.date]\n",
    "Crash_Notify= round((sameday['DATE_POLICE_NOTIFIED'] - sameday['CRASH_DATE']).dt.total_seconds().mean() / 60,0)\n",
    "Crash_Notify"
   ]
  },
  {
   "cell_type": "code",
   "execution_count": null,
   "id": "0d0003dc",
   "metadata": {},
   "outputs": [],
   "source": [
    "#Heatmap with limited numerical data from table. Mainly was just curious, presuming it wouldn't look pretty. "
   ]
  },
  {
   "cell_type": "code",
   "execution_count": 226,
   "id": "38394d6d",
   "metadata": {},
   "outputs": [
    {
     "name": "stderr",
     "output_type": "stream",
     "text": [
      "/var/folders/8x/vcdqxh8n2p3d52dr6bn8zlwr0000gn/T/ipykernel_71350/83121609.py:5: FutureWarning: The default value of numeric_only in DataFrame.corr is deprecated. In a future version, it will default to False. Select only valid columns or specify the value of numeric_only to silence this warning.\n",
      "  correlation_matrix = subset_df.corr()\n"
     ]
    },
    {
     "data": {
      "text/plain": [
       "<Axes: >"
      ]
     },
     "execution_count": 226,
     "metadata": {},
     "output_type": "execute_result"
    },
    {
     "data": {
      "image/png": "[encoded data removed]",
      "text/plain": [
       "<Figure size 640x480 with 2 Axes>"
      ]
     },
     "metadata": {},
     "output_type": "display_data"
    }
   ],
   "source": [
    "selected_columns = ['POSTED_SPEED_LIMIT', 'INJURIES_TOTAL',\n",
    "                   'NUM_UNITS',]\n",
    "subset_df = df[selected_columns]\n",
    "\n",
    "correlation_matrix = subset_df.corr()\n",
    "sns.heatmap(correlation_matrix, annot=True, cmap='coolwarm', vmax=1)"
   ]
  },
  {
   "cell_type": "code",
   "execution_count": null,
   "id": "128ef934",
   "metadata": {},
   "outputs": [],
   "source": [
    "#Hit and Runs by Lighting Condition"
   ]
  },
  {
   "cell_type": "code",
   "execution_count": 239,
   "id": "a154f05c",
   "metadata": {
    "scrolled": false
   },
   "outputs": [
    {
     "data": {
      "image/png": "[encoded data removed]",
      "text/plain": [
       "<Figure size 800x600 with 1 Axes>"
      ]
     },
     "metadata": {},
     "output_type": "display_data"
    }
   ],
   "source": [
    "df_Y = df[df['HIT_AND_RUN'] == 'Y']\n",
    "plt.figure(figsize=(8, 6))\n",
    "ax = sns.countplot(data=df_Y, x='LIGHTING_CONDITION', hue='HIT_AND_RUN', palette='Set1')\n",
    "ax.set_xticklabels(ax.get_xticklabels(), rotation=45)\n",
    "plt.show()"
   ]
  },
  {
   "cell_type": "markdown",
   "id": "7eb11c13",
   "metadata": {},
   "source": [
    "The most interesting data to me was that the top cause (excluding unknown)\n",
    "for crashes with reported injury in 2022 was 'FAILING TO YIELD RIGHT-OF-WAY'.\n",
    "This could be because a yeild indicates a turn into traffic exposing the side\n",
    "of the car possibly creating more 'T-Bones' and 'Side-swipes' which are more injury prone that damage to the back of the car."
   ]
  }
 ],
 "metadata": {
  "kernelspec": {
   "display_name": "Python 3 (ipykernel)",
   "language": "python",
   "name": "python3"
  },
  "language_info": {
   "codemirror_mode": {
    "name": "ipython",
    "version": 3
   },
   "file_extension": ".py",
   "mimetype": "text/x-python",
   "name": "python",
   "nbconvert_exporter": "python",
   "pygments_lexer": "ipython3",
   "version": "3.11.4"
  }
 },
 "nbformat": 4,
 "nbformat_minor": 5
}
